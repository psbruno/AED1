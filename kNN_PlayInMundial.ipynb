{
  "nbformat": 4,
  "nbformat_minor": 0,
  "metadata": {
    "colab": {
      "name": "Untitled3 (3).ipynb",
      "provenance": [],
      "collapsed_sections": [],
      "include_colab_link": true
    },
    "kernelspec": {
      "name": "python3",
      "display_name": "Python 3"
    }
  },
  "cells": [
    {
      "cell_type": "markdown",
      "metadata": {
        "id": "view-in-github",
        "colab_type": "text"
      },
      "source": [
        "<a href=\"https://colab.research.google.com/github/psbruno/AED1.files/blob/master/kNN_PlayInMundial.ipynb\" target=\"_parent\"><img src=\"https://colab.research.google.com/assets/colab-badge.svg\" alt=\"Open In Colab\"/></a>"
      ]
    },
    {
      "cell_type": "code",
      "metadata": {
        "id": "dezy_3pDbPj4"
      },
      "source": [
        "import numpy as np\n",
        "import pandas as pd\n",
        "from matplotlib import pyplot as plt\n",
        "from sklearn.neighbors import KNeighborsClassifier\n",
        "import seaborn as sns\n",
        "from sklearn.cluster import AgglomerativeClustering\n",
        "import scipy.cluster.hierarchy as sch\n",
        "from scipy.cluster.hierarchy import dendrogram, linkage"
      ],
      "execution_count": 3,
      "outputs": []
    },
    {
      "cell_type": "code",
      "metadata": {
        "id": "PFv16MEfbcxP",
        "outputId": "0159fbab-6068-4d8a-d30f-a63847f7b449",
        "colab": {
          "base_uri": "https://localhost:8080/",
          "height": 204
        }
      },
      "source": [
        "Jogos = pd.read_csv(\"PlayIn.csv\")\n",
        "Jogos.head()\n"
      ],
      "execution_count": 4,
      "outputs": [
        {
          "output_type": "execute_result",
          "data": {
            "text/html": [
              "<div>\n",
              "<style scoped>\n",
              "    .dataframe tbody tr th:only-of-type {\n",
              "        vertical-align: middle;\n",
              "    }\n",
              "\n",
              "    .dataframe tbody tr th {\n",
              "        vertical-align: top;\n",
              "    }\n",
              "\n",
              "    .dataframe thead th {\n",
              "        text-align: right;\n",
              "    }\n",
              "</style>\n",
              "<table border=\"1\" class=\"dataframe\">\n",
              "  <thead>\n",
              "    <tr style=\"text-align: right;\">\n",
              "      <th></th>\n",
              "      <th>Time</th>\n",
              "      <th>Top</th>\n",
              "      <th>Jungle</th>\n",
              "      <th>Mid</th>\n",
              "      <th>ADC</th>\n",
              "      <th>Sup</th>\n",
              "      <th>Vitoria</th>\n",
              "      <th>Classe</th>\n",
              "    </tr>\n",
              "  </thead>\n",
              "  <tbody>\n",
              "    <tr>\n",
              "      <th>0</th>\n",
              "      <td>INTZ</td>\n",
              "      <td>Urgot</td>\n",
              "      <td>Gragas</td>\n",
              "      <td>Tristana</td>\n",
              "      <td>Ashe</td>\n",
              "      <td>Alistar</td>\n",
              "      <td>0</td>\n",
              "      <td>Dive</td>\n",
              "    </tr>\n",
              "    <tr>\n",
              "      <th>1</th>\n",
              "      <td>MAD Lions</td>\n",
              "      <td>Renekton</td>\n",
              "      <td>Evelynn</td>\n",
              "      <td>Lucian</td>\n",
              "      <td>Jhin</td>\n",
              "      <td>Pantheon</td>\n",
              "      <td>1</td>\n",
              "      <td>Split</td>\n",
              "    </tr>\n",
              "    <tr>\n",
              "      <th>2</th>\n",
              "      <td>Legacy</td>\n",
              "      <td>Camille</td>\n",
              "      <td>Nidalee</td>\n",
              "      <td>Sett</td>\n",
              "      <td>Tristana</td>\n",
              "      <td>Nautilus</td>\n",
              "      <td>1</td>\n",
              "      <td>Split</td>\n",
              "    </tr>\n",
              "    <tr>\n",
              "      <th>3</th>\n",
              "      <td>INTZ</td>\n",
              "      <td>Vladmir</td>\n",
              "      <td>Volibear</td>\n",
              "      <td>Zoe</td>\n",
              "      <td>Ezreal</td>\n",
              "      <td>Bardo</td>\n",
              "      <td>0</td>\n",
              "      <td>Poke</td>\n",
              "    </tr>\n",
              "    <tr>\n",
              "      <th>4</th>\n",
              "      <td>LGD</td>\n",
              "      <td>Volibear</td>\n",
              "      <td>Lilia</td>\n",
              "      <td>Lucian</td>\n",
              "      <td>Ashe</td>\n",
              "      <td>Braum</td>\n",
              "      <td>0</td>\n",
              "      <td>Wombo Combo</td>\n",
              "    </tr>\n",
              "  </tbody>\n",
              "</table>\n",
              "</div>"
            ],
            "text/plain": [
              "        Time        Top     Jungle  ...        Sup Vitoria        Classe\n",
              "0       INTZ      Urgot     Gragas  ...    Alistar       0         Dive \n",
              "1  MAD Lions   Renekton    Evelynn  ...   Pantheon       1         Split\n",
              "2     Legacy    Camille    Nidalee  ...   Nautilus       1         Split\n",
              "3       INTZ    Vladmir   Volibear  ...      Bardo       0          Poke\n",
              "4        LGD   Volibear      Lilia  ...      Braum       0   Wombo Combo\n",
              "\n",
              "[5 rows x 8 columns]"
            ]
          },
          "metadata": {
            "tags": []
          },
          "execution_count": 4
        }
      ]
    },
    {
      "cell_type": "code",
      "metadata": {
        "id": "AJwfEMG9o98T"
      },
      "source": [
        "atributos=np.zeros((78,6))"
      ],
      "execution_count": 5,
      "outputs": []
    },
    {
      "cell_type": "code",
      "metadata": {
        "id": "HfA6RjoSPnff",
        "outputId": "64e5f168-5c94-4391-b3ea-a8ccf6539810",
        "colab": {
          "base_uri": "https://localhost:8080/",
          "height": 204
        }
      },
      "source": [
        "Classes = pd.read_csv(\"Estrategias.csv\")\n",
        "Classes.head()"
      ],
      "execution_count": 11,
      "outputs": [
        {
          "output_type": "execute_result",
          "data": {
            "text/html": [
              "<div>\n",
              "<style scoped>\n",
              "    .dataframe tbody tr th:only-of-type {\n",
              "        vertical-align: middle;\n",
              "    }\n",
              "\n",
              "    .dataframe tbody tr th {\n",
              "        vertical-align: top;\n",
              "    }\n",
              "\n",
              "    .dataframe thead th {\n",
              "        text-align: right;\n",
              "    }\n",
              "</style>\n",
              "<table border=\"1\" class=\"dataframe\">\n",
              "  <thead>\n",
              "    <tr style=\"text-align: right;\">\n",
              "      <th></th>\n",
              "      <th>Campeao</th>\n",
              "      <th>Peel</th>\n",
              "      <th>Dive</th>\n",
              "      <th>Split</th>\n",
              "      <th>Poke</th>\n",
              "      <th>Wombo Combo</th>\n",
              "    </tr>\n",
              "  </thead>\n",
              "  <tbody>\n",
              "    <tr>\n",
              "      <th>0</th>\n",
              "      <td>Nidalee</td>\n",
              "      <td>3</td>\n",
              "      <td>3</td>\n",
              "      <td>0</td>\n",
              "      <td>5</td>\n",
              "      <td>0</td>\n",
              "    </tr>\n",
              "    <tr>\n",
              "      <th>1</th>\n",
              "      <td>Lilia</td>\n",
              "      <td>0</td>\n",
              "      <td>2</td>\n",
              "      <td>0</td>\n",
              "      <td>3</td>\n",
              "      <td>5</td>\n",
              "    </tr>\n",
              "    <tr>\n",
              "      <th>2</th>\n",
              "      <td>Orianna</td>\n",
              "      <td>3</td>\n",
              "      <td>3</td>\n",
              "      <td>0</td>\n",
              "      <td>4</td>\n",
              "      <td>5</td>\n",
              "    </tr>\n",
              "    <tr>\n",
              "      <th>3</th>\n",
              "      <td>Ornn</td>\n",
              "      <td>4</td>\n",
              "      <td>3</td>\n",
              "      <td>1</td>\n",
              "      <td>0</td>\n",
              "      <td>4</td>\n",
              "    </tr>\n",
              "    <tr>\n",
              "      <th>4</th>\n",
              "      <td>Graves</td>\n",
              "      <td>1</td>\n",
              "      <td>3</td>\n",
              "      <td>1</td>\n",
              "      <td>1</td>\n",
              "      <td>5</td>\n",
              "    </tr>\n",
              "  </tbody>\n",
              "</table>\n",
              "</div>"
            ],
            "text/plain": [
              "    Campeao  Peel  Dive  Split  Poke  Wombo Combo\n",
              "0   Nidalee     3     3      0     5            0\n",
              "1     Lilia     0     2      0     3            5\n",
              "2   Orianna     3     3      0     4            5\n",
              "3      Ornn     4     3      1     0            4\n",
              "4    Graves     1     3      1     1            5"
            ]
          },
          "metadata": {
            "tags": []
          },
          "execution_count": 11
        }
      ]
    },
    {
      "cell_type": "code",
      "metadata": {
        "id": "yjj_pu15NCSS"
      },
      "source": [
        "\n",
        "\n"
      ],
      "execution_count": 7,
      "outputs": []
    },
    {
      "cell_type": "code",
      "metadata": {
        "id": "Cxzo9xLsqh0K",
        "outputId": "df1988cc-33f3-43f1-e8c7-d70c3055c8f3",
        "colab": {
          "base_uri": "https://localhost:8080/",
          "height": 34
        }
      },
      "source": [
        "i=0\n",
        "Classe=[]\n",
        "for index, PlayIn in Jogos.iterrows():\n",
        "  Classe.append(PlayIn[\" Classe\"])\n",
        "  #print(\"Time:\", PlayIn[\"Time\"], \"\\n\")\n",
        "  flag=0 \n",
        "  for  index, Dados in Classes.iterrows():\n",
        "    if(Dados[\"Campeao\"] == PlayIn[\"Top\"]):\n",
        "      A=Dados\n",
        "      flag=flag+1\n",
        "    if(Dados[\"Campeao\"] == PlayIn[\"Jungle\"]):\n",
        "      B=Dados\n",
        "    if(Dados[\"Campeao\"] == PlayIn[\"Mid\"]):    \n",
        "      C=Dados\n",
        "      flag=flag+1\n",
        "    if(Dados[\"Campeao\"] == PlayIn[\"ADC\"]):\n",
        "      D=Dados\n",
        "      flag=flag+1\n",
        "    if(Dados[\"Campeao\"] == PlayIn[\"Sup\"]):\n",
        "      E=Dados  \n",
        "      flag=flag+1\n",
        "    if(flag==5):\n",
        "      break\n",
        "\n",
        "  \n",
        "\n",
        "  #print(\"Top :\",A[\"Campeao\"],\"Jungle:\",B[\"Campeao\"],\"Mid:\",C[\"Campeao\"],\"ADC:\",D[\"Campeao\"],\"SUP\",E[\"Campeao\"])\n",
        "  atributos[i][0]=A[\"Peel\"]+B[\"Peel\"]+C[\"Peel\"]+D[\"Peel\"]+E[\"Peel\"]\n",
        "  atributos[i][1]=A[\"Dive\"]+B[\"Dive\"]+C[\"Dive\"]+D[\"Dive\"]+E[\"Dive\"]\n",
        "  atributos[i][2]=A[\"Split\"]+B[\"Split\"]+C[\"Split\"]+D[\"Split\"]+E[\"Split\"]\n",
        "  atributos[i][3]=A[\"Poke\"]+B[\"Poke\"]+C[\"Poke\"]+D[\"Poke\"]+E[\"Poke\"]\n",
        "  atributos[i][4]=A[\"Wombo Combo\"]+B[\"Wombo Combo\"]+C[\"Wombo Combo\"]+D[\"Wombo Combo\"]+E[\"Wombo Combo\"]\n",
        "  i=i+1\n",
        "    \n",
        "    #print(\"\\n<-------------------\",linha,\"-------------------->\")\n",
        "\n",
        "print(i)\n",
        "   "
      ],
      "execution_count": 42,
      "outputs": [
        {
          "output_type": "stream",
          "text": [
            "77\n"
          ],
          "name": "stdout"
        }
      ]
    },
    {
      "cell_type": "code",
      "metadata": {
        "id": "njGp2yPHSKY_"
      },
      "source": [
        ""
      ],
      "execution_count": null,
      "outputs": []
    },
    {
      "cell_type": "code",
      "metadata": {
        "id": "DTGCRmeu5W1j"
      },
      "source": [
        "\n",
        "trainX = atributos[:50]\n",
        "trainY = Classe[:50]\n"
      ],
      "execution_count": 56,
      "outputs": []
    },
    {
      "cell_type": "code",
      "metadata": {
        "id": "NoNo0LfHQKyi",
        "outputId": "e1043edf-4aa5-40f7-f9ee-e5a26cbf5de0",
        "colab": {
          "base_uri": "https://localhost:8080/",
          "height": 867
        }
      },
      "source": [
        "trainY"
      ],
      "execution_count": 57,
      "outputs": [
        {
          "output_type": "execute_result",
          "data": {
            "text/plain": [
              "[' Dive ',\n",
              " ' Split',\n",
              " ' Split',\n",
              " ' Poke',\n",
              " ' Wombo Combo',\n",
              " ' Wombo Combo',\n",
              " ' Split',\n",
              " ' Split',\n",
              " ' Split',\n",
              " ' Wombo Combo',\n",
              " ' Wombo Combo',\n",
              " ' Dive',\n",
              " ' Dive',\n",
              " ' Peel',\n",
              " '  Wombo Combo',\n",
              " ' Split',\n",
              " ' Split',\n",
              " ' Wombo Combo',\n",
              " ' Wombo Combo',\n",
              " ' Dive',\n",
              " ' Wombo Combo',\n",
              " ' Wombo Combo',\n",
              " ' Wombo Combo',\n",
              " ' Dive',\n",
              " ' Peel',\n",
              " ' Dive',\n",
              " ' Wombo Combo',\n",
              " ' Split',\n",
              " ' Peel',\n",
              " ' Wombo Combo',\n",
              " ' Split',\n",
              " ' Wombo Combo',\n",
              " ' Wombo Combo',\n",
              " ' Wombo Combo',\n",
              " ' Poke',\n",
              " ' Poke',\n",
              " ' Peel',\n",
              " ' Split',\n",
              " ' Peel',\n",
              " ' Wombo Combo',\n",
              " ' Dive',\n",
              " 'Split',\n",
              " ' Wombo Combo',\n",
              " ' Peel',\n",
              " ' Wombo Combo',\n",
              " ' Peel',\n",
              " ' Peel',\n",
              " ' Wombo Combo',\n",
              " ' Poke',\n",
              " ' Dive']"
            ]
          },
          "metadata": {
            "tags": []
          },
          "execution_count": 57
        }
      ]
    },
    {
      "cell_type": "code",
      "metadata": {
        "id": "wiYZuKIw9gCU"
      },
      "source": [
        "atributos\n",
        "\n"
      ],
      "execution_count": null,
      "outputs": []
    },
    {
      "cell_type": "code",
      "metadata": {
        "id": "LP4x2cFiGh-j"
      },
      "source": [
        "neigh=KNeighborsClassifier()"
      ],
      "execution_count": 39,
      "outputs": []
    },
    {
      "cell_type": "code",
      "metadata": {
        "id": "LolMNwg9Gk6z",
        "outputId": "cbab1d26-580d-4b44-c9d4-0d5d4065ac1b",
        "colab": {
          "base_uri": "https://localhost:8080/",
          "height": 68
        }
      },
      "source": [
        "neigh.fit(trainX, trainY)"
      ],
      "execution_count": 63,
      "outputs": [
        {
          "output_type": "execute_result",
          "data": {
            "text/plain": [
              "KNeighborsClassifier(algorithm='auto', leaf_size=30, metric='minkowski',\n",
              "                     metric_params=None, n_jobs=None, n_neighbors=5, p=2,\n",
              "                     weights='uniform')"
            ]
          },
          "metadata": {
            "tags": []
          },
          "execution_count": 63
        }
      ]
    },
    {
      "cell_type": "code",
      "metadata": {
        "id": "5ojIWP7fV3rC",
        "outputId": "154e0f86-074d-41ce-b064-581a420005b2",
        "colab": {
          "base_uri": "https://localhost:8080/",
          "height": 357
        }
      },
      "source": [
        "test = atributos[50:70]\n",
        "test"
      ],
      "execution_count": 65,
      "outputs": [
        {
          "output_type": "execute_result",
          "data": {
            "text/plain": [
              "array([[11., 15., 13.,  9., 21., 21.],\n",
              "       [12., 15.,  5., 11., 15., 15.],\n",
              "       [16., 16.,  8.,  7., 17., 17.],\n",
              "       [11., 13.,  3., 10., 25., 25.],\n",
              "       [11., 16.,  9., 10., 23., 23.],\n",
              "       [12., 14.,  4.,  6., 20., 20.],\n",
              "       [12., 19., 10.,  3., 20., 20.],\n",
              "       [11., 12.,  6., 11., 21., 21.],\n",
              "       [15., 15.,  6.,  8., 17., 17.],\n",
              "       [11., 18.,  6.,  6., 21., 21.],\n",
              "       [ 9., 21.,  7.,  1., 21., 21.],\n",
              "       [14., 16.,  6.,  9., 21., 21.],\n",
              "       [ 9., 18.,  4., 11., 24., 24.],\n",
              "       [12., 16.,  2., 10., 23., 23.],\n",
              "       [17., 14.,  8.,  8., 19., 19.],\n",
              "       [11., 13.,  4., 10., 17., 17.],\n",
              "       [ 9., 17.,  2.,  8., 25., 25.],\n",
              "       [14., 15.,  4., 11., 23., 23.],\n",
              "       [11., 17., 10., 11., 17., 17.],\n",
              "       [15., 14.,  7.,  9., 14., 14.]])"
            ]
          },
          "metadata": {
            "tags": []
          },
          "execution_count": 65
        }
      ]
    },
    {
      "cell_type": "code",
      "metadata": {
        "id": "uC122h5UWRt8",
        "outputId": "32cca864-4dfe-44ea-abf0-a5da6abeec1e",
        "colab": {
          "base_uri": "https://localhost:8080/",
          "height": 669
        }
      },
      "source": [
        "Jogos[50:70]"
      ],
      "execution_count": 68,
      "outputs": [
        {
          "output_type": "execute_result",
          "data": {
            "text/html": [
              "<div>\n",
              "<style scoped>\n",
              "    .dataframe tbody tr th:only-of-type {\n",
              "        vertical-align: middle;\n",
              "    }\n",
              "\n",
              "    .dataframe tbody tr th {\n",
              "        vertical-align: top;\n",
              "    }\n",
              "\n",
              "    .dataframe thead th {\n",
              "        text-align: right;\n",
              "    }\n",
              "</style>\n",
              "<table border=\"1\" class=\"dataframe\">\n",
              "  <thead>\n",
              "    <tr style=\"text-align: right;\">\n",
              "      <th></th>\n",
              "      <th>Time</th>\n",
              "      <th>Top</th>\n",
              "      <th>Jungle</th>\n",
              "      <th>Mid</th>\n",
              "      <th>ADC</th>\n",
              "      <th>Sup</th>\n",
              "      <th>Vitoria</th>\n",
              "      <th>Classe</th>\n",
              "    </tr>\n",
              "  </thead>\n",
              "  <tbody>\n",
              "    <tr>\n",
              "      <th>50</th>\n",
              "      <td>MAD Lions</td>\n",
              "      <td>Mordekaiser</td>\n",
              "      <td>Sett</td>\n",
              "      <td>Syndra</td>\n",
              "      <td>Wukong</td>\n",
              "      <td>Senna</td>\n",
              "      <td>0</td>\n",
              "      <td>Dive</td>\n",
              "    </tr>\n",
              "    <tr>\n",
              "      <th>51</th>\n",
              "      <td>SuperMassive</td>\n",
              "      <td>Shen</td>\n",
              "      <td>Graves</td>\n",
              "      <td>Zoe</td>\n",
              "      <td>Ezreal</td>\n",
              "      <td>Nautilus</td>\n",
              "      <td>0</td>\n",
              "      <td>Poke</td>\n",
              "    </tr>\n",
              "    <tr>\n",
              "      <th>52</th>\n",
              "      <td>MAD Lions</td>\n",
              "      <td>Ornn</td>\n",
              "      <td>Lilia</td>\n",
              "      <td>Lucian</td>\n",
              "      <td>Senna</td>\n",
              "      <td>Leona</td>\n",
              "      <td>1</td>\n",
              "      <td>Peel</td>\n",
              "    </tr>\n",
              "    <tr>\n",
              "      <th>53</th>\n",
              "      <td>SuperMassive</td>\n",
              "      <td>Sion</td>\n",
              "      <td>Lilia</td>\n",
              "      <td>Azir</td>\n",
              "      <td>Miss Fortune</td>\n",
              "      <td>Leona</td>\n",
              "      <td>1</td>\n",
              "      <td>Wombo Combo</td>\n",
              "    </tr>\n",
              "    <tr>\n",
              "      <th>54</th>\n",
              "      <td>MAD Lions</td>\n",
              "      <td>Sett</td>\n",
              "      <td>Graves</td>\n",
              "      <td>Syndra</td>\n",
              "      <td>Senna</td>\n",
              "      <td>Wukong</td>\n",
              "      <td>0</td>\n",
              "      <td>Split</td>\n",
              "    </tr>\n",
              "    <tr>\n",
              "      <th>55</th>\n",
              "      <td>MAD Lions</td>\n",
              "      <td>Ornn</td>\n",
              "      <td>Graves</td>\n",
              "      <td>Cassiopeia</td>\n",
              "      <td>Ezreal</td>\n",
              "      <td>Alistar</td>\n",
              "      <td>1</td>\n",
              "      <td>Poke</td>\n",
              "    </tr>\n",
              "    <tr>\n",
              "      <th>56</th>\n",
              "      <td>SuperMassive</td>\n",
              "      <td>Sion</td>\n",
              "      <td>Lilia</td>\n",
              "      <td>Sett</td>\n",
              "      <td>Vayne</td>\n",
              "      <td>Leona</td>\n",
              "      <td>0</td>\n",
              "      <td>Dive</td>\n",
              "    </tr>\n",
              "    <tr>\n",
              "      <th>57</th>\n",
              "      <td>SuperMassive</td>\n",
              "      <td>Malphite</td>\n",
              "      <td>Lilia</td>\n",
              "      <td>Sett</td>\n",
              "      <td>Caitlyn</td>\n",
              "      <td>Morgana</td>\n",
              "      <td>1</td>\n",
              "      <td>Wombo Combo</td>\n",
              "    </tr>\n",
              "    <tr>\n",
              "      <th>58</th>\n",
              "      <td>MAD Lions</td>\n",
              "      <td>Renekton</td>\n",
              "      <td>Graves</td>\n",
              "      <td>Corki</td>\n",
              "      <td>Senna</td>\n",
              "      <td>Leona</td>\n",
              "      <td>0</td>\n",
              "      <td>Peel</td>\n",
              "    </tr>\n",
              "    <tr>\n",
              "      <th>59</th>\n",
              "      <td>Rainbow7</td>\n",
              "      <td>Camille</td>\n",
              "      <td>Graves</td>\n",
              "      <td>Galio</td>\n",
              "      <td>Ashe</td>\n",
              "      <td>Leona</td>\n",
              "      <td>0</td>\n",
              "      <td>Wombo Combo</td>\n",
              "    </tr>\n",
              "    <tr>\n",
              "      <th>60</th>\n",
              "      <td>LGD</td>\n",
              "      <td>Volibear</td>\n",
              "      <td>Kindred</td>\n",
              "      <td>Twisted Fate</td>\n",
              "      <td>Tristana</td>\n",
              "      <td>Rakan</td>\n",
              "      <td>1</td>\n",
              "      <td>Peel</td>\n",
              "    </tr>\n",
              "    <tr>\n",
              "      <th>61</th>\n",
              "      <td>Rainbow7</td>\n",
              "      <td>Aatrox</td>\n",
              "      <td>Graves</td>\n",
              "      <td>Azir</td>\n",
              "      <td>Senna</td>\n",
              "      <td>Nautilus</td>\n",
              "      <td>0</td>\n",
              "      <td>Peel</td>\n",
              "    </tr>\n",
              "    <tr>\n",
              "      <th>62</th>\n",
              "      <td>LGD</td>\n",
              "      <td>Gnar</td>\n",
              "      <td>Kindred</td>\n",
              "      <td>Orianna</td>\n",
              "      <td>Jhin</td>\n",
              "      <td>Leona</td>\n",
              "      <td>1</td>\n",
              "      <td>Wombo Combo</td>\n",
              "    </tr>\n",
              "    <tr>\n",
              "      <th>63</th>\n",
              "      <td>LGD</td>\n",
              "      <td>Ornn</td>\n",
              "      <td>Kindred</td>\n",
              "      <td>Syndra</td>\n",
              "      <td>Jhin</td>\n",
              "      <td>Leona</td>\n",
              "      <td>1</td>\n",
              "      <td>Wombo Combo</td>\n",
              "    </tr>\n",
              "    <tr>\n",
              "      <th>64</th>\n",
              "      <td>Rainbow7</td>\n",
              "      <td>Kayle</td>\n",
              "      <td>LeeSin</td>\n",
              "      <td>Orianna</td>\n",
              "      <td>Senna</td>\n",
              "      <td>Sett</td>\n",
              "      <td>0</td>\n",
              "      <td>Peel</td>\n",
              "    </tr>\n",
              "    <tr>\n",
              "      <th>65</th>\n",
              "      <td>UOL</td>\n",
              "      <td>Wukong</td>\n",
              "      <td>Nidalee</td>\n",
              "      <td>Zoe</td>\n",
              "      <td>Twitch</td>\n",
              "      <td>Alistar</td>\n",
              "      <td>1</td>\n",
              "      <td>Wombo Combo</td>\n",
              "    </tr>\n",
              "    <tr>\n",
              "      <th>66</th>\n",
              "      <td>SuperMassive</td>\n",
              "      <td>Malphite</td>\n",
              "      <td>Lilia</td>\n",
              "      <td>Galio</td>\n",
              "      <td>Miss Fortune</td>\n",
              "      <td>Rakan</td>\n",
              "      <td>0</td>\n",
              "      <td>Dive</td>\n",
              "    </tr>\n",
              "    <tr>\n",
              "      <th>67</th>\n",
              "      <td>SuperMassive</td>\n",
              "      <td>Wukong</td>\n",
              "      <td>Lilia</td>\n",
              "      <td>Azir</td>\n",
              "      <td>Senna</td>\n",
              "      <td>Leona</td>\n",
              "      <td>0</td>\n",
              "      <td>Wombo Combo</td>\n",
              "    </tr>\n",
              "    <tr>\n",
              "      <th>68</th>\n",
              "      <td>UOL</td>\n",
              "      <td>Renekton</td>\n",
              "      <td>Graves</td>\n",
              "      <td>Kassadin</td>\n",
              "      <td>Ziggs</td>\n",
              "      <td>Alistar</td>\n",
              "      <td>1</td>\n",
              "      <td>Dive</td>\n",
              "    </tr>\n",
              "    <tr>\n",
              "      <th>69</th>\n",
              "      <td>UOL</td>\n",
              "      <td>Wukong</td>\n",
              "      <td>Nidalee</td>\n",
              "      <td>Vayne</td>\n",
              "      <td>Jhin</td>\n",
              "      <td>Braum</td>\n",
              "      <td>1</td>\n",
              "      <td>Peel</td>\n",
              "    </tr>\n",
              "  </tbody>\n",
              "</table>\n",
              "</div>"
            ],
            "text/plain": [
              "            Time           Top    Jungle  ...        Sup Vitoria        Classe\n",
              "50     MAD Lions   Mordekaiser      Sett  ...      Senna       0          Dive\n",
              "51  SuperMassive          Shen    Graves  ...   Nautilus       0          Poke\n",
              "52    MAD Lions           Ornn     Lilia  ...      Leona       1          Peel\n",
              "53  SuperMassive          Sion     Lilia  ...      Leona       1   Wombo Combo\n",
              "54     MAD Lions          Sett    Graves  ...     Wukong       0         Split\n",
              "55     MAD Lions          Ornn    Graves  ...    Alistar       1          Poke\n",
              "56  SuperMassive          Sion     Lilia  ...      Leona       0          Dive\n",
              "57  SuperMassive      Malphite     Lilia  ...    Morgana       1   Wombo Combo\n",
              "58     MAD Lions      Renekton    Graves  ...      Leona       0          Peel\n",
              "59      Rainbow7       Camille    Graves  ...      Leona       0   Wombo Combo\n",
              "60           LGD      Volibear   Kindred  ...      Rakan       1          Peel\n",
              "61      Rainbow7        Aatrox    Graves  ...   Nautilus       0          Peel\n",
              "62           LGD          Gnar   Kindred  ...      Leona       1   Wombo Combo\n",
              "63           LGD          Ornn   Kindred  ...      Leona       1   Wombo Combo\n",
              "64      Rainbow7         Kayle    LeeSin  ...       Sett       0          Peel\n",
              "65           UOL        Wukong   Nidalee  ...    Alistar       1   Wombo Combo\n",
              "66  SuperMassive      Malphite     Lilia  ...      Rakan       0          Dive\n",
              "67  SuperMassive        Wukong     Lilia  ...      Leona       0   Wombo Combo\n",
              "68           UOL      Renekton    Graves  ...    Alistar       1          Dive\n",
              "69           UOL        Wukong   Nidalee  ...      Braum       1          Peel\n",
              "\n",
              "[20 rows x 8 columns]"
            ]
          },
          "metadata": {
            "tags": []
          },
          "execution_count": 68
        }
      ]
    },
    {
      "cell_type": "code",
      "metadata": {
        "id": "J308y4zcVRYe",
        "outputId": "95fe1efe-4fc3-4a95-fb68-adfb13a63774",
        "colab": {
          "base_uri": "https://localhost:8080/",
          "height": 102
        }
      },
      "source": [
        "neigh.predict(test)"
      ],
      "execution_count": 66,
      "outputs": [
        {
          "output_type": "execute_result",
          "data": {
            "text/plain": [
              "array([' Dive', ' Wombo Combo', ' Peel', ' Wombo Combo', ' Dive',\n",
              "       ' Wombo Combo', ' Dive', ' Wombo Combo', ' Peel', ' Dive',\n",
              "       ' Split', ' Wombo Combo', ' Wombo Combo', ' Wombo Combo', ' Peel',\n",
              "       ' Wombo Combo', ' Wombo Combo', ' Wombo Combo', ' Dive', ' Peel'],\n",
              "      dtype='<U13')"
            ]
          },
          "metadata": {
            "tags": []
          },
          "execution_count": 66
        }
      ]
    },
    {
      "cell_type": "code",
      "metadata": {
        "id": "yJviiCifV2xG"
      },
      "source": [
        ""
      ],
      "execution_count": null,
      "outputs": []
    }
  ]
}